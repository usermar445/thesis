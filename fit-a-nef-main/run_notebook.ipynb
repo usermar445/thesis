{
 "cells": [
  {
   "cell_type": "code",
   "execution_count": 2,
   "outputs": [],
   "source": [
    "\n",
    "from fit_a_nef.nef.utils import custom_uniform\n",
    "\n",
    "\n",
    "from config import load_cfgs, store_cfg\n",
    "from dataset import path_from_name_idxs\n",
    "from dataset.data_creation import get_dataset\n",
    "from dataset.image_dataset import load_attributes, load_images\n",
    "\n",
    "from tasks.utils import find_seed_idx, get_num_nefs_list, get_signal_idx\n",
    "\n",
    "\n",
    "from ml_collections import ConfigDict, config_dict\n",
    "from absl import flags, logging\n",
    "\n",
    "# Documentation\n",
    "import json\n",
    "\n",
    "from functools import partial\n",
    "from pathlib import Path\n",
    "from typing import Any, Dict, List, Optional, Tuple\n",
    "\n",
    "import h5py\n",
    "import jax\n",
    "import jax.numpy as jnp\n",
    "import optax\n",
    "import os\n",
    "\n",
    "from flax import linen as nn\n",
    "\n",
    "# JAX\n",
    "\n",
    "from fit_a_nef.initializers import InitModel, MetaLearnedInit, RandomInit, SharedInit\n",
    "from fit_a_nef.nef import param_key_dict\n",
    "\n",
    "# Misc\n",
    "from fit_a_nef.utils import (\n",
    "    TrainState,\n",
    "    flatten_params,\n",
    "    get_nef,\n",
    "    get_optimizer,\n",
    "    get_scheduler,\n",
    "    unflatten_params,\n",
    ")\n",
    "\n",
    "from fit_a_nef.metrics import mae, mse, psnr, simse, ssim"
   ],
   "metadata": {
    "collapsed": false,
    "ExecuteTime": {
     "end_time": "2024-03-11T13:54:28.558321Z",
     "start_time": "2024-03-11T13:54:26.651891Z"
    }
   },
   "id": "f8a487da5f054b22"
  },
  {
   "cell_type": "code",
   "execution_count": 3,
   "outputs": [],
   "source": [
    "def find_env_path(env_var: str = \"NEF_PATH\", default_path: str = \"saved_models\"):\n",
    "    if env_var not in os.environ:\n",
    "        env_path = Path(default_path).absolute()\n",
    "        env_path.mkdir(parents=True, exist_ok=True)\n",
    "        logging.warning(f\"{env_var} environment variable not set, using default value {env_path}\")\n",
    "        return str(env_path)\n",
    "    else:\n",
    "        return str(Path(os.environ[env_var]).absolute())"
   ],
   "metadata": {
    "collapsed": false,
    "ExecuteTime": {
     "end_time": "2024-03-11T13:54:29.413922Z",
     "start_time": "2024-03-11T13:54:29.408187Z"
    }
   },
   "id": "8ed81590a89b0059"
  },
  {
   "cell_type": "code",
   "execution_count": 4,
   "outputs": [],
   "source": [
    "def get_config():\n",
    "    cfg = ConfigDict()\n",
    "    cfg.task = \"image\"\n",
    "    cfg.nef_dir = 'saved_models/example'\n",
    "    # Create dir for saving meta-learned initialisations\n",
    "    cfg.meta_nef_dir = find_env_path(\"NEF_PATH\", \"saved_meta_models\")\n",
    "    cfg.seeds = '(0,1,2,3,4)'\n",
    "\n",
    "    # Train\n",
    "    cfg.train = ConfigDict()\n",
    "    cfg.train.start_idx = 0\n",
    "    cfg.train.end_idx = 10\n",
    "    cfg.train.num_steps = 500\n",
    "    cfg.train.num_parallel_nefs = 2000\n",
    "    cfg.train.masked_portion = 1.0\n",
    "    cfg.train.multi_gpu = False\n",
    "    # put train_to_target_psnr is an optional argument\n",
    "    cfg.train.train_to_target_psnr = config_dict.placeholder(float)\n",
    "    cfg.train.check_every = 10\n",
    "    cfg.train.fixed_init = True\n",
    "    cfg.train.verbose = True\n",
    "\n",
    "    # Whether to use meta-learned initialization\n",
    "    cfg.train.from_meta_init = False\n",
    "    cfg.train.meta_init_epoch = 10\n",
    "\n",
    "    # Logging\n",
    "    cfg.log = ConfigDict()\n",
    "    cfg.log.images = 500\n",
    "    cfg.log.metrics = 10\n",
    "    cfg.log.loss = 10\n",
    "    cfg.log.use_wandb = False\n",
    "\n",
    "    # Wandb\n",
    "    cfg.wandb = ConfigDict()\n",
    "    cfg.wandb.entity = \"neuralfield-wandb\"\n",
    "    cfg.wandb.project = \"Classification_tuning_MNIST\"\n",
    "    cfg.wandb.name = \"logging_MNIST_dset\"\n",
    "\n",
    "    # Dataset\n",
    "    cfg.dataset = ConfigDict()\n",
    "    cfg.dataset.path = \".\"\n",
    "    cfg.dataset.name = \"MNIST\"\n",
    "    cfg.dataset.out_channels = 1\n",
    "\n",
    "    return cfg"
   ],
   "metadata": {
    "collapsed": false,
    "ExecuteTime": {
     "end_time": "2024-03-11T13:54:29.860675Z",
     "start_time": "2024-03-11T13:54:29.857340Z"
    }
   },
   "id": "dd755943f9d5aa42"
  },
  {
   "cell_type": "code",
   "execution_count": 5,
   "outputs": [],
   "source": [
    "def load_cfgs(\n",
    "    nef='SIREN',\n",
    "    _SCHEDULER_FILE: Optional[flags.FlagHolder] = None,\n",
    "    _OPTIMIZER_FILE: Optional[flags.FlagHolder] = None,\n",
    "):\n",
    "    cfg = get_config()\n",
    "    if nef == 'SIREN':\n",
    "        nef_cfg = ConfigDict(\n",
    "        {\n",
    "            \"name\": \"SIREN\",\n",
    "            \"params\": {\n",
    "                \"hidden_dim\": 8,\n",
    "                \"num_layers\": 3,\n",
    "                \"omega_0\": 8.0,\n",
    "            },\n",
    "        }\n",
    "    )\n",
    "    elif nef == 'HYPLLMLP':\n",
    "        nef_cfg = ConfigDict(\n",
    "        {\n",
    "            \"name\": \"HYPLLMLP\",\n",
    "            \"params\": {\n",
    "                \"hidden_dim\": 15,\n",
    "                \"num_layers\": 3\n",
    "            },\n",
    "        }\n",
    "    )\n",
    "\n",
    "    # TODO find a way to not have to do this\n",
    "    nef_cfg.unlock()\n",
    "    nef_cfg.params.output_dim = cfg.dataset.get(\"out_channels\", 1)\n",
    "    nef_cfg.lock()\n",
    "\n",
    "    scheduler_cfg = ConfigDict(\n",
    "        {\n",
    "            \"name\": \"constant_schedule\",\n",
    "            \"params\": {\n",
    "                \"value\": 5e-4,\n",
    "            },\n",
    "        }\n",
    "    )\n",
    "    cfg.unlock()\n",
    "    cfg[\"scheduler\"] = scheduler_cfg\n",
    "    cfg.lock()\n",
    "\n",
    "    optimizer_cfg = ConfigDict(\n",
    "        {\n",
    "            \"name\": \"adamw\",\n",
    "            \"params\": {\n",
    "                \"b1\": 0.9,\n",
    "                \"b2\": 0.999,\n",
    "                \"eps\": 1e-8,\n",
    "                \"eps_root\": 0.0,\n",
    "                \"weight_decay\": 1e-3,\n",
    "            },\n",
    "        }\n",
    "    )\n",
    "    cfg.unlock()\n",
    "    cfg[\"optimizer\"] = optimizer_cfg\n",
    "    cfg.lock()\n",
    "\n",
    "    return cfg, nef_cfg"
   ],
   "metadata": {
    "collapsed": false,
    "ExecuteTime": {
     "end_time": "2024-03-11T13:54:30.272418Z",
     "start_time": "2024-03-11T13:54:30.268592Z"
    }
   },
   "id": "eb7de7496020fecf"
  },
  {
   "cell_type": "markdown",
   "source": [
    "# Setup configuration"
   ],
   "metadata": {
    "collapsed": false
   },
   "id": "dd48c1b591fe0d82"
  },
  {
   "cell_type": "code",
   "execution_count": 6,
   "outputs": [
    {
     "name": "stderr",
     "output_type": "stream",
     "text": [
      "WARNING:absl:NEF_PATH environment variable not set, using default value /Users/martinarnold/uva/old/thesis/fit-a-nef/saved_meta_models\n"
     ]
    }
   ],
   "source": [
    "cfg, nef_cfg = load_cfgs()"
   ],
   "metadata": {
    "collapsed": false,
    "ExecuteTime": {
     "end_time": "2024-03-11T13:54:31.463903Z",
     "start_time": "2024-03-11T13:54:31.445734Z"
    }
   },
   "id": "f7d6dc3afc62ae47"
  },
  {
   "cell_type": "code",
   "execution_count": 7,
   "outputs": [],
   "source": [
    "seeds = eval(cfg.seeds)"
   ],
   "metadata": {
    "collapsed": false,
    "ExecuteTime": {
     "end_time": "2024-03-11T13:54:31.925016Z",
     "start_time": "2024-03-11T13:54:31.920338Z"
    }
   },
   "id": "97e2a0818321aee1"
  },
  {
   "cell_type": "code",
   "execution_count": 8,
   "outputs": [],
   "source": [
    "storage_folder = Path(cfg.nef_dir) / Path(cfg.dataset.name) / Path(f\"{nef_cfg.name}\")\n",
    "meta_storage_folder = Path(cfg.meta_nef_dir) / Path(cfg.dataset.name) / Path(f\"{nef_cfg.name}\")\n",
    "storage_folder.mkdir(parents=True, exist_ok=True)"
   ],
   "metadata": {
    "collapsed": false,
    "ExecuteTime": {
     "end_time": "2024-03-11T13:54:32.146297Z",
     "start_time": "2024-03-11T13:54:32.141743Z"
    }
   },
   "id": "e2eea485b3d1a493"
  },
  {
   "cell_type": "code",
   "execution_count": 9,
   "outputs": [],
   "source": [
    "store_cfg(nef_cfg, storage_folder, \"nef.json\", overwrite=True)\n",
    "store_cfg(cfg, storage_folder, \"cfg.json\", overwrite=True)"
   ],
   "metadata": {
    "collapsed": false,
    "ExecuteTime": {
     "end_time": "2024-03-11T13:54:32.355785Z",
     "start_time": "2024-03-11T13:54:32.349648Z"
    }
   },
   "id": "31db0d68a9fe5869"
  },
  {
   "cell_type": "code",
   "execution_count": 10,
   "outputs": [],
   "source": [
    "available_datasets = [\n",
    "        \"CIFAR10\",\n",
    "        \"MNIST\",\n",
    "        \"CelebA\",\n",
    "        \"ImageNet\",\n",
    "        \"TinyImageNet\",\n",
    "        \"STL10\",\n",
    "    ]"
   ],
   "metadata": {
    "collapsed": false,
    "ExecuteTime": {
     "end_time": "2024-03-11T13:54:32.798905Z",
     "start_time": "2024-03-11T13:54:32.794436Z"
    }
   },
   "id": "da632a6472382364"
  },
  {
   "cell_type": "code",
   "execution_count": 11,
   "outputs": [],
   "source": [
    "import os\n",
    "from pathlib import Path\n",
    "from absl import logging\n",
    "\n",
    "from pathlib import Path\n",
    "from typing import Any, Callable, Dict, Literal, Sequence, Tuple, Union\n",
    "\n",
    "import torchvision\n",
    "from absl import logging\n",
    "from ml_collections import ConfigDict\n",
    "from torch.utils import data\n",
    "\n",
    "# image datasets\n",
    "from dataset.image_dataset.CelebA import CelebA\n",
    "from dataset.image_dataset.image_data import load_images\n",
    "from dataset.image_dataset.ImageNet import ImageNetKaggle\n",
    "from dataset.image_dataset.MicroImageNet import MicroImageNet\n",
    "from dataset.image_dataset.TinyImageNet import TinyImageNet\n",
    "from dataset.image_dataset.utils import (\n",
    "    MEAN_STD_IMAGE_DATASETS,\n",
    "    fast_normalize,\n",
    "    image_to_numpy,\n",
    ")\n",
    "\n",
    "# shape datasets\n",
    "from dataset.shape_dataset.shape_data import load_shapes\n",
    "from dataset.shape_dataset.shapenet import ShapeNet\n",
    "from dataset.shape_dataset.shapenet_val import ShapeNetVal"
   ],
   "metadata": {
    "collapsed": false,
    "ExecuteTime": {
     "end_time": "2024-03-11T13:54:34.250677Z",
     "start_time": "2024-03-11T13:54:34.234818Z"
    }
   },
   "id": "f75970b34f58242a"
  },
  {
   "cell_type": "code",
   "execution_count": 12,
   "outputs": [
    {
     "name": "stderr",
     "output_type": "stream",
     "text": [
      "WARNING:absl:DATA_PATH environment variable not set, using default value /Users/martinarnold/uva/old/thesis/fit-a-nef/data\n"
     ]
    }
   ],
   "source": [
    "if \"DATA_PATH\" not in os.environ:\n",
    "        data_path = Path(\"data\").absolute()\n",
    "        data_path.mkdir(parents=True, exist_ok=True)\n",
    "        logging.warning(f\"DATA_PATH environment variable not set, using default value {data_path}\")\n",
    "        DATA = data_path\n",
    "else:\n",
    "        DATA = Path(os.environ[\"DATA_PATH\"])"
   ],
   "metadata": {
    "collapsed": false,
    "ExecuteTime": {
     "end_time": "2024-03-11T13:54:35.903460Z",
     "start_time": "2024-03-11T13:54:35.886264Z"
    }
   },
   "id": "d0069e56f8e47439"
  },
  {
   "cell_type": "code",
   "execution_count": null,
   "outputs": [],
   "source": [
    "if cfg.dataset.name == \"MNIST\":\n",
    "        mean, std = MEAN_STD_IMAGE_DATASETS[\"MNIST\"]\n",
    "\n",
    "        normalize_fn = lambda x: fast_normalize(x, mean, std)\n",
    "\n",
    "        train_dataset = torchvision.datasets.MNIST(\n",
    "            root=DATA / Path(cfg.dataset.path),\n",
    "            train=True,\n",
    "            transform=torchvision.transforms.Compose(\n",
    "                [image_to_numpy, lambda x: x.reshape(28, 28, 1), normalize_fn]\n",
    "            ),\n",
    "            download=True,\n",
    "        )\n",
    "        test_dataset = torchvision.datasets.MNIST(\n",
    "            root=DATA / Path(cfg.dataset.path),\n",
    "            train=False,\n",
    "            transform=torchvision.transforms.Compose(\n",
    "                [image_to_numpy, lambda x: x.reshape(28, 28, 1), normalize_fn]\n",
    "            ),\n",
    "            download=True,\n",
    "        )\n",
    "        source_dataset = data.ConcatDataset([train_dataset, test_dataset])"
   ],
   "metadata": {
    "collapsed": false,
    "is_executing": true,
    "ExecuteTime": {
     "start_time": "2024-03-11T13:54:36.551072Z"
    }
   },
   "id": "a8ee08b59c5e870b"
  },
  {
   "cell_type": "code",
   "execution_count": 1,
   "outputs": [
    {
     "ename": "NameError",
     "evalue": "name 'get_dataset' is not defined",
     "output_type": "error",
     "traceback": [
      "\u001B[0;31m---------------------------------------------------------------------------\u001B[0m",
      "\u001B[0;31mNameError\u001B[0m                                 Traceback (most recent call last)",
      "Cell \u001B[0;32mIn[1], line 1\u001B[0m\n\u001B[0;32m----> 1\u001B[0m source_dataset \u001B[38;5;241m=\u001B[39m \u001B[43mget_dataset\u001B[49m(cfg\u001B[38;5;241m.\u001B[39mdataset)\n",
      "\u001B[0;31mNameError\u001B[0m: name 'get_dataset' is not defined"
     ]
    }
   ],
   "source": [
    "source_dataset = get_dataset(cfg.dataset)"
   ],
   "metadata": {
    "collapsed": false
   },
   "id": "c7c2911628f9e197"
  },
  {
   "cell_type": "code",
   "execution_count": 1,
   "outputs": [
    {
     "ename": "NameError",
     "evalue": "name 'source_dataset' is not defined",
     "output_type": "error",
     "traceback": [
      "\u001B[0;31m---------------------------------------------------------------------------\u001B[0m",
      "\u001B[0;31mNameError\u001B[0m                                 Traceback (most recent call last)",
      "Cell \u001B[0;32mIn[1], line 1\u001B[0m\n\u001B[0;32m----> 1\u001B[0m \u001B[43msource_dataset\u001B[49m\n",
      "\u001B[0;31mNameError\u001B[0m: name 'source_dataset' is not defined"
     ]
    }
   ],
   "source": [
    "source_dataset"
   ],
   "metadata": {
    "collapsed": false,
    "ExecuteTime": {
     "end_time": "2024-03-11T13:54:23.837400Z",
     "start_time": "2024-03-11T13:54:23.715136Z"
    }
   },
   "id": "82d17571467a9507"
  },
  {
   "cell_type": "code",
   "execution_count": 38,
   "outputs": [],
   "source": [
    "signals_in_dset = len(source_dataset)"
   ],
   "metadata": {
    "collapsed": false,
    "ExecuteTime": {
     "end_time": "2024-03-06T08:48:04.934978Z",
     "start_time": "2024-03-06T08:48:04.918404Z"
    }
   },
   "id": "c3a46044157954ca"
  },
  {
   "cell_type": "code",
   "execution_count": 39,
   "outputs": [],
   "source": [
    "total_nefs = cfg.train.end_idx - cfg.train.start_idx"
   ],
   "metadata": {
    "collapsed": false,
    "ExecuteTime": {
     "end_time": "2024-03-06T08:48:06.341257Z",
     "start_time": "2024-03-06T08:48:06.319278Z"
    }
   },
   "id": "d87ed7559e24de7d"
  },
  {
   "cell_type": "code",
   "execution_count": 40,
   "outputs": [],
   "source": [
    "num_nefs_list = get_num_nefs_list(\n",
    "        nef_start_idx=cfg.train.start_idx,\n",
    "        nef_end_idx=cfg.train.end_idx,\n",
    "        num_parallel_nefs=cfg.train.num_parallel_nefs,\n",
    "        signals_in_dset=signals_in_dset,\n",
    "    )"
   ],
   "metadata": {
    "collapsed": false,
    "ExecuteTime": {
     "end_time": "2024-03-06T08:48:07.011894Z",
     "start_time": "2024-03-06T08:48:07.006463Z"
    }
   },
   "id": "1c6d9bf286008047"
  },
  {
   "cell_type": "code",
   "execution_count": 41,
   "outputs": [
    {
     "data": {
      "text/plain": "[10]"
     },
     "execution_count": 41,
     "metadata": {},
     "output_type": "execute_result"
    }
   ],
   "source": [
    "num_nefs_list"
   ],
   "metadata": {
    "collapsed": false,
    "ExecuteTime": {
     "end_time": "2024-03-06T08:48:07.725288Z",
     "start_time": "2024-03-06T08:48:07.712483Z"
    }
   },
   "id": "a895098ee5983bf8"
  },
  {
   "cell_type": "code",
   "execution_count": 42,
   "outputs": [],
   "source": [
    "init_rngs_per_seed = [jax.random.PRNGKey(seed) for seed in seeds]"
   ],
   "metadata": {
    "collapsed": false,
    "ExecuteTime": {
     "end_time": "2024-03-06T08:48:08.638867Z",
     "start_time": "2024-03-06T08:48:08.465912Z"
    }
   },
   "id": "887bba371f0c0795"
  },
  {
   "cell_type": "code",
   "execution_count": 43,
   "outputs": [],
   "source": [
    "initializers = [SharedInit(init_rngs_per_seed[i]) for i in range(len(seeds))]"
   ],
   "metadata": {
    "collapsed": false,
    "ExecuteTime": {
     "end_time": "2024-03-06T08:48:08.715626Z",
     "start_time": "2024-03-06T08:48:08.710085Z"
    }
   },
   "id": "9b60a938cf969bf6"
  },
  {
   "cell_type": "markdown",
   "source": [
    "# Training\n",
    "\n",
    "## Prepare training"
   ],
   "metadata": {
    "collapsed": false
   },
   "id": "29091d4cf812c5ba"
  },
  {
   "cell_type": "code",
   "execution_count": 44,
   "outputs": [],
   "source": [
    "nef_start_idx = 0\n",
    "nef_end_idx = 10"
   ],
   "metadata": {
    "collapsed": false,
    "ExecuteTime": {
     "end_time": "2024-03-06T08:48:09.929976Z",
     "start_time": "2024-03-06T08:48:09.911168Z"
    }
   },
   "id": "9777f4490ac9086b"
  },
  {
   "cell_type": "code",
   "execution_count": 45,
   "outputs": [],
   "source": [
    "seed_idx = find_seed_idx(nef_start_idx, signals_in_dset)\n",
    "seed = seeds[seed_idx]\n",
    "train_rng = jax.random.PRNGKey(seed)\n",
    "\n",
    "start_idx = get_signal_idx(nef_start_idx, signals_in_dset)\n",
    "end_idx = get_signal_idx(nef_end_idx - 1, signals_in_dset) + 1"
   ],
   "metadata": {
    "collapsed": false,
    "ExecuteTime": {
     "end_time": "2024-03-06T08:48:10.311102Z",
     "start_time": "2024-03-06T08:48:10.290719Z"
    }
   },
   "id": "b37c2e1bc3e336fa"
  },
  {
   "cell_type": "code",
   "execution_count": 46,
   "outputs": [],
   "source": [
    "def load_images(\n",
    "    source_dataset: data.Dataset,\n",
    "    start_idx: int,\n",
    "    end_idx: int,\n",
    "    rng: Optional[jax.random.PRNGKey] = None,\n",
    "    force_shuffle: bool = False,\n",
    ") -> Tuple[jnp.array, jnp.array, Tuple[int, int, int], Optional[jax.random.PRNGKey]]:\n",
    "    \"\"\"Load images from the dataset and create the coordinates. The returned images will have shape\n",
    "    (num_images, num_pixels, num_channels) while the coordinates will have shape (num_pixels,\n",
    "    num_channels).\n",
    "\n",
    "    When shuffling is required, a Jax key is used to get the randomness.\n",
    "    A new key is returned which should be further split before the next use.\n",
    "\n",
    "    Args:\n",
    "        source_dataset (data.Dataset): The dataset.\n",
    "        start_idx (int): The index of the first image to load.\n",
    "        end_idx (int): The last image loaded will be the one with index end_idx - 1.\n",
    "        rng (jax.random.PRNGKey): a random key used in the pseudo-random number generation. Default: None.\n",
    "        force_shuffle (bool): whether to shuffle the dataset. Default: False.\n",
    "\n",
    "    Returns:\n",
    "        coords: The coordinates of the pixels with shape\n",
    "                (num_pixels, num_channels).\n",
    "        images: The images with shape\n",
    "                (num_images, num_pixels, num_channels).\n",
    "        image_shape: The original shape of the images.\n",
    "        new_rng: A new PRNG key if one was provided and\n",
    "                shuffling was performed, otherwise returns the\n",
    "                provided key in `rng`.\n",
    "    \"\"\"\n",
    "    # Create a subset of the dataset\n",
    "    dset = data.Subset(source_dataset, range(start_idx, end_idx))\n",
    "\n",
    "    # Create a loader with a single worker to get the data from disk to RAM\n",
    "    loader = data.DataLoader(\n",
    "        dset, batch_size=1, shuffle=False, num_workers=0, collate_fn=lambda x: x\n",
    "    )\n",
    "    # make them into a jnp array with the correct shape, assumes the data is in [0, 1]\n",
    "    images = jnp.stack([x[0][0] for x in iter(loader)], axis=0)\n",
    "    # remember the original shape of the images for plotting and coordinate making\n",
    "    images_shape = list(images.shape[-3:])\n",
    "    # reshape to (num_images, num_pixels, num_channels)\n",
    "    images = images.reshape(-1, images_shape[0] * images_shape[1], images_shape[2])\n",
    "\n",
    "    if force_shuffle:\n",
    "        if rng is None:\n",
    "            raise RuntimeError(\n",
    "                \"force_shuffle is set to True, but the rng key has not been provided.\"\n",
    "            )\n",
    "        else:\n",
    "            rng, new_rng = jax.random.split(rng)\n",
    "            index_perm = jax.random.permutation(new_rng, jnp.arange(0, images.shape[0]), axis=0)\n",
    "            images = images[index_perm]\n",
    "    else:\n",
    "        index_perm = jnp.arange(0, images.shape[0])\n",
    "\n",
    "    # coordinates\n",
    "    x = jnp.linspace(-1, 1, images_shape[0])\n",
    "    y = jnp.linspace(-1, 1, images_shape[1])\n",
    "    x, y = jnp.meshgrid(x, y)\n",
    "    coords = jnp.stack([x, y], axis=-1)\n",
    "    # reshape to (1, num_pixels, num_channels)\n",
    "    coords = coords.reshape(images_shape[0] * images_shape[1], 2)\n",
    "\n",
    "    return coords, images, images_shape, rng, index_perm"
   ],
   "metadata": {
    "collapsed": false,
    "ExecuteTime": {
     "end_time": "2024-03-06T08:48:11.684114Z",
     "start_time": "2024-03-06T08:48:11.670862Z"
    }
   },
   "id": "e819733841d61a"
  },
  {
   "cell_type": "code",
   "execution_count": 47,
   "outputs": [],
   "source": [
    "coords, images, images_shape, _, _ = load_images(source_dataset, start_idx, end_idx)"
   ],
   "metadata": {
    "collapsed": false,
    "ExecuteTime": {
     "end_time": "2024-03-06T08:48:12.722852Z",
     "start_time": "2024-03-06T08:48:12.629482Z"
    }
   },
   "id": "d03d02b54e6af8f2"
  },
  {
   "cell_type": "code",
   "execution_count": 48,
   "outputs": [],
   "source": [
    "dataset_mean, dataset_std = MEAN_STD_IMAGE_DATASETS[cfg.dataset.name]"
   ],
   "metadata": {
    "collapsed": false,
    "ExecuteTime": {
     "end_time": "2024-03-06T08:48:13.142589Z",
     "start_time": "2024-03-06T08:48:13.137333Z"
    }
   },
   "id": "4d249605bcb0cff7"
  },
  {
   "cell_type": "code",
   "execution_count": 49,
   "outputs": [],
   "source": [
    "signals=images\n",
    "coords=coords\n",
    "nef_cfg=nef_cfg\n",
    "scheduler_cfg=cfg.scheduler\n",
    "optimizer_cfg=cfg.optimizer\n",
    "log_cfg=cfg.log\n",
    "train_rng=train_rng\n",
    "initializer=initializers[seed_idx]\n",
    "num_steps=cfg.train.num_steps\n",
    "masked_portion=cfg.train.masked_portion\n",
    "images_mean=dataset_mean\n",
    "images_std=dataset_std\n",
    "images_shape=images_shape\n",
    "verbose=cfg.train.verbose"
   ],
   "metadata": {
    "collapsed": false,
    "ExecuteTime": {
     "end_time": "2024-03-06T08:48:13.361630Z",
     "start_time": "2024-03-06T08:48:13.355019Z"
    }
   },
   "id": "e0248b21251e1d25"
  },
  {
   "cell_type": "code",
   "execution_count": 50,
   "outputs": [],
   "source": [
    "max_images_logged = 5\n",
    "max_recons_metrics = 10"
   ],
   "metadata": {
    "collapsed": false,
    "ExecuteTime": {
     "end_time": "2024-03-06T08:48:13.693604Z",
     "start_time": "2024-03-06T08:48:13.687383Z"
    }
   },
   "id": "11c8b500a7980efe"
  },
  {
   "cell_type": "code",
   "execution_count": 51,
   "outputs": [],
   "source": [
    "num_signals = signals.shape[0]"
   ],
   "metadata": {
    "collapsed": false,
    "ExecuteTime": {
     "end_time": "2024-03-06T08:48:14.236330Z",
     "start_time": "2024-03-06T08:48:14.230694Z"
    }
   },
   "id": "9b52ebef2a78317f"
  },
  {
   "cell_type": "code",
   "execution_count": 52,
   "outputs": [],
   "source": [
    "# Initialize optimizer and learning rate schedule\n",
    "lr_schedule = get_scheduler(scheduler_cfg)\n",
    "optimizer = get_optimizer(optimizer_cfg, lr_schedule)"
   ],
   "metadata": {
    "collapsed": false,
    "ExecuteTime": {
     "end_time": "2024-03-06T08:48:14.908890Z",
     "start_time": "2024-03-06T08:48:14.905343Z"
    }
   },
   "id": "618e16a8d0407260"
  },
  {
   "cell_type": "markdown",
   "source": [
    "## Set up model"
   ],
   "metadata": {
    "collapsed": false
   },
   "id": "19e942d434c4d732"
  },
  {
   "cell_type": "code",
   "execution_count": 53,
   "outputs": [],
   "source": [
    "def SIREN_key(param_name, nef_cfg):\n",
    "    # bias before kernel, ordered based on layer number\n",
    "    if param_name.startswith(\"output_linear.\"):\n",
    "        index = 2 * nef_cfg.get(\"num_layers\") - 2\n",
    "    else:\n",
    "        index = 2 * int(param_name.split(\".\")[0].split(\"_\")[-1])\n",
    "\n",
    "    if param_name.endswith(\".bias\"):\n",
    "        return index\n",
    "    elif param_name.endswith(\".kernel\"):\n",
    "        return index + 1\n",
    "    else:\n",
    "        raise ValueError(f\"param_name (`{param_name}`) must end with either `.bias` or `.kernel`.\")\n"
   ],
   "metadata": {
    "collapsed": false,
    "ExecuteTime": {
     "end_time": "2024-03-06T08:48:15.945117Z",
     "start_time": "2024-03-06T08:48:15.939854Z"
    }
   },
   "id": "aea73cd520244da4"
  },
  {
   "cell_type": "code",
   "execution_count": 54,
   "outputs": [],
   "source": [
    "class SIREN(nn.Module):\n",
    "    output_dim: int\n",
    "    hidden_dim: int\n",
    "    num_layers: int\n",
    "    omega_0: float\n",
    "\n",
    "    def setup(self):\n",
    "        self.kernel_net = [\n",
    "            HSirenLayer(\n",
    "                output_dim=self.hidden_dim,\n",
    "                omega_0=self.omega_0,\n",
    "                is_first_layer=True,\n",
    "            )\n",
    "        ] + [\n",
    "            HSirenLayer(\n",
    "                output_dim=self.hidden_dim,\n",
    "                omega_0=self.omega_0,\n",
    "            )\n",
    "            for _ in range(self.num_layers - 2)\n",
    "        ]\n",
    "\n",
    "        self.output_linear = nn.Dense(\n",
    "            features=self.output_dim,\n",
    "            use_bias=True,\n",
    "            kernel_init=custom_uniform(numerator=1, mode=\"fan_in\", distribution=\"normal\"),\n",
    "            bias_init=nn.initializers.zeros,\n",
    "        )\n",
    "\n",
    "    def __call__(self, x):\n",
    "        for layer in self.kernel_net:\n",
    "            x = layer(x)\n",
    "\n",
    "        out = self.output_linear(x)\n",
    "\n",
    "        return out"
   ],
   "metadata": {
    "collapsed": false,
    "ExecuteTime": {
     "end_time": "2024-03-06T08:48:16.712624Z",
     "start_time": "2024-03-06T08:48:16.709873Z"
    }
   },
   "id": "d1bf9781b695ed83"
  },
  {
   "cell_type": "code",
   "execution_count": 55,
   "outputs": [],
   "source": [
    "class HSirenLayer(nn.Module):\n",
    "    output_dim: int\n",
    "    omega_0: float\n",
    "    is_first_layer: bool = False\n",
    "\n",
    "    def setup(self):\n",
    "        c = 1 if self.is_first_layer else 6 / self.omega_0**2\n",
    "        distrib = \"uniform_squared\" if self.is_first_layer else \"uniform\"\n",
    "        self.linear = nn.Dense(\n",
    "            features=self.output_dim,\n",
    "            use_bias=True,\n",
    "            kernel_init=custom_uniform(numerator=c, mode=\"fan_in\", distribution=distrib),\n",
    "            bias_init=nn.initializers.zeros,\n",
    "        )\n",
    "\n",
    "    def __call__(self, x):\n",
    "        print(x.shape)\n",
    "        after_linear = self.omega_0 * self.linear(x)\n",
    "        print(self.linear.variables['params'])\n",
    "        return jnp.sin(after_linear)\n",
    "    \n",
    "    def construct_dl_parameters(self, in_features: int, out_features: int, bias: bool = True\n",
    "        ):\n",
    "        weight = jax.numpy.empty(in_features, out_features)\n",
    "        if bias:\n",
    "            b = jax.numpy.empty(out_features)\n",
    "        else:\n",
    "            b = None\n",
    "        return weight, b\n",
    "        "
   ],
   "metadata": {
    "collapsed": false,
    "ExecuteTime": {
     "end_time": "2024-03-06T08:48:17.637361Z",
     "start_time": "2024-03-06T08:48:17.632671Z"
    }
   },
   "id": "932a75d60e58d7cb"
  },
  {
   "cell_type": "code",
   "execution_count": 56,
   "outputs": [],
   "source": [
    "model = SIREN(**nef_cfg['params'])"
   ],
   "metadata": {
    "collapsed": false,
    "ExecuteTime": {
     "end_time": "2024-03-06T08:48:18.694892Z",
     "start_time": "2024-03-06T08:48:18.686839Z"
    }
   },
   "id": "27ea0b876cd859a9"
  },
  {
   "cell_type": "code",
   "execution_count": 57,
   "outputs": [
    {
     "data": {
      "text/plain": "SIREN(\n    # attributes\n    output_dim = 1\n    hidden_dim = 8\n    num_layers = 3\n    omega_0 = 8.0\n)"
     },
     "execution_count": 57,
     "metadata": {},
     "output_type": "execute_result"
    }
   ],
   "source": [
    "model"
   ],
   "metadata": {
    "collapsed": false,
    "ExecuteTime": {
     "end_time": "2024-03-06T08:48:20.516075Z",
     "start_time": "2024-03-06T08:48:20.500906Z"
    }
   },
   "id": "db795fb954d56cae"
  },
  {
   "cell_type": "code",
   "execution_count": 59,
   "outputs": [
    {
     "name": "stdout",
     "output_type": "stream",
     "text": [
      "(784, 2)\n",
      "{'kernel': Traced<ShapedArray(float32[2,8])>with<BatchTrace(level=1/0)> with\n",
      "  val = Array([[[ 0.2923069 ,  0.28966415, -0.2603742 ,  0.48741376,\n",
      "          0.07832241, -0.4425907 , -0.14212322, -0.1031878 ],\n",
      "        [-0.08754194, -0.4592371 ,  0.47663093, -0.3745258 ,\n",
      "          0.34914184, -0.01427758, -0.28593063,  0.08828318]],\n",
      "\n",
      "       [[ 0.2923069 ,  0.28966415, -0.2603742 ,  0.48741376,\n",
      "          0.07832241, -0.4425907 , -0.14212322, -0.1031878 ],\n",
      "        [-0.08754194, -0.4592371 ,  0.47663093, -0.3745258 ,\n",
      "          0.34914184, -0.01427758, -0.28593063,  0.08828318]],\n",
      "\n",
      "       [[ 0.2923069 ,  0.28966415, -0.2603742 ,  0.48741376,\n",
      "          0.07832241, -0.4425907 , -0.14212322, -0.1031878 ],\n",
      "        [-0.08754194, -0.4592371 ,  0.47663093, -0.3745258 ,\n",
      "          0.34914184, -0.01427758, -0.28593063,  0.08828318]],\n",
      "\n",
      "       [[ 0.2923069 ,  0.28966415, -0.2603742 ,  0.48741376,\n",
      "          0.07832241, -0.4425907 , -0.14212322, -0.1031878 ],\n",
      "        [-0.08754194, -0.4592371 ,  0.47663093, -0.3745258 ,\n",
      "          0.34914184, -0.01427758, -0.28593063,  0.08828318]],\n",
      "\n",
      "       [[ 0.2923069 ,  0.28966415, -0.2603742 ,  0.48741376,\n",
      "          0.07832241, -0.4425907 , -0.14212322, -0.1031878 ],\n",
      "        [-0.08754194, -0.4592371 ,  0.47663093, -0.3745258 ,\n",
      "          0.34914184, -0.01427758, -0.28593063,  0.08828318]],\n",
      "\n",
      "       [[ 0.2923069 ,  0.28966415, -0.2603742 ,  0.48741376,\n",
      "          0.07832241, -0.4425907 , -0.14212322, -0.1031878 ],\n",
      "        [-0.08754194, -0.4592371 ,  0.47663093, -0.3745258 ,\n",
      "          0.34914184, -0.01427758, -0.28593063,  0.08828318]],\n",
      "\n",
      "       [[ 0.2923069 ,  0.28966415, -0.2603742 ,  0.48741376,\n",
      "          0.07832241, -0.4425907 , -0.14212322, -0.1031878 ],\n",
      "        [-0.08754194, -0.4592371 ,  0.47663093, -0.3745258 ,\n",
      "          0.34914184, -0.01427758, -0.28593063,  0.08828318]],\n",
      "\n",
      "       [[ 0.2923069 ,  0.28966415, -0.2603742 ,  0.48741376,\n",
      "          0.07832241, -0.4425907 , -0.14212322, -0.1031878 ],\n",
      "        [-0.08754194, -0.4592371 ,  0.47663093, -0.3745258 ,\n",
      "          0.34914184, -0.01427758, -0.28593063,  0.08828318]],\n",
      "\n",
      "       [[ 0.2923069 ,  0.28966415, -0.2603742 ,  0.48741376,\n",
      "          0.07832241, -0.4425907 , -0.14212322, -0.1031878 ],\n",
      "        [-0.08754194, -0.4592371 ,  0.47663093, -0.3745258 ,\n",
      "          0.34914184, -0.01427758, -0.28593063,  0.08828318]],\n",
      "\n",
      "       [[ 0.2923069 ,  0.28966415, -0.2603742 ,  0.48741376,\n",
      "          0.07832241, -0.4425907 , -0.14212322, -0.1031878 ],\n",
      "        [-0.08754194, -0.4592371 ,  0.47663093, -0.3745258 ,\n",
      "          0.34914184, -0.01427758, -0.28593063,  0.08828318]]],      dtype=float32)\n",
      "  batch_dim = 0, 'bias': Array([0., 0., 0., 0., 0., 0., 0., 0.], dtype=float32)}\n",
      "(784, 8)\n",
      "{'kernel': Traced<ShapedArray(float32[8,8])>with<BatchTrace(level=1/0)> with\n",
      "  val = Array([[[-0.03542379,  0.03988696,  0.0870287 ,  0.09504012,\n",
      "         -0.08677465,  0.03398493, -0.01934917,  0.03199016],\n",
      "        [ 0.10801271, -0.00314823,  0.02637214, -0.03209275,\n",
      "         -0.05125806,  0.06124745, -0.04853074,  0.08635076],\n",
      "        [-0.01155789,  0.06307505, -0.07742109, -0.08879885,\n",
      "         -0.02609889, -0.08832899,  0.01101111, -0.10106276],\n",
      "        [-0.09825287,  0.10697124,  0.09980622,  0.01990008,\n",
      "          0.10148794, -0.04356361, -0.06443645,  0.10249496],\n",
      "        [ 0.04412716,  0.1031419 ,  0.01241856,  0.02603509,\n",
      "         -0.0139861 ,  0.09616815, -0.02123147,  0.05198352],\n",
      "        [-0.02325958, -0.07775997,  0.10101426,  0.04946362,\n",
      "          0.05401829,  0.06253821, -0.00871189, -0.04180789],\n",
      "        [ 0.01134511,  0.05033519, -0.02891214,  0.04988019,\n",
      "         -0.02881137, -0.00140125, -0.1011859 , -0.08422307],\n",
      "        [-0.10667033, -0.06664462,  0.08809652,  0.07683714,\n",
      "         -0.04143365, -0.03914723, -0.10108898,  0.07602802]],\n",
      "\n",
      "       [[-0.03542379,  0.03988696,  0.0870287 ,  0.09504012,\n",
      "         -0.08677465,  0.03398493, -0.01934917,  0.03199016],\n",
      "        [ 0.10801271, -0.00314823,  0.02637214, -0.03209275,\n",
      "         -0.05125806,  0.06124745, -0.04853074,  0.08635076],\n",
      "        [-0.01155789,  0.06307505, -0.07742109, -0.08879885,\n",
      "         -0.02609889, -0.08832899,  0.01101111, -0.10106276],\n",
      "        [-0.09825287,  0.10697124,  0.09980622,  0.01990008,\n",
      "          0.10148794, -0.04356361, -0.06443645,  0.10249496],\n",
      "        [ 0.04412716,  0.1031419 ,  0.01241856,  0.02603509,\n",
      "         -0.0139861 ,  0.09616815, -0.02123147,  0.05198352],\n",
      "        [-0.02325958, -0.07775997,  0.10101426,  0.04946362,\n",
      "          0.05401829,  0.06253821, -0.00871189, -0.04180789],\n",
      "        [ 0.01134511,  0.05033519, -0.02891214,  0.04988019,\n",
      "         -0.02881137, -0.00140125, -0.1011859 , -0.08422307],\n",
      "        [-0.10667033, -0.06664462,  0.08809652,  0.07683714,\n",
      "         -0.04143365, -0.03914723, -0.10108898,  0.07602802]],\n",
      "\n",
      "       [[-0.03542379,  0.03988696,  0.0870287 ,  0.09504012,\n",
      "         -0.08677465,  0.03398493, -0.01934917,  0.03199016],\n",
      "        [ 0.10801271, -0.00314823,  0.02637214, -0.03209275,\n",
      "         -0.05125806,  0.06124745, -0.04853074,  0.08635076],\n",
      "        [-0.01155789,  0.06307505, -0.07742109, -0.08879885,\n",
      "         -0.02609889, -0.08832899,  0.01101111, -0.10106276],\n",
      "        [-0.09825287,  0.10697124,  0.09980622,  0.01990008,\n",
      "          0.10148794, -0.04356361, -0.06443645,  0.10249496],\n",
      "        [ 0.04412716,  0.1031419 ,  0.01241856,  0.02603509,\n",
      "         -0.0139861 ,  0.09616815, -0.02123147,  0.05198352],\n",
      "        [-0.02325958, -0.07775997,  0.10101426,  0.04946362,\n",
      "          0.05401829,  0.06253821, -0.00871189, -0.04180789],\n",
      "        [ 0.01134511,  0.05033519, -0.02891214,  0.04988019,\n",
      "         -0.02881137, -0.00140125, -0.1011859 , -0.08422307],\n",
      "        [-0.10667033, -0.06664462,  0.08809652,  0.07683714,\n",
      "         -0.04143365, -0.03914723, -0.10108898,  0.07602802]],\n",
      "\n",
      "       [[-0.03542379,  0.03988696,  0.0870287 ,  0.09504012,\n",
      "         -0.08677465,  0.03398493, -0.01934917,  0.03199016],\n",
      "        [ 0.10801271, -0.00314823,  0.02637214, -0.03209275,\n",
      "         -0.05125806,  0.06124745, -0.04853074,  0.08635076],\n",
      "        [-0.01155789,  0.06307505, -0.07742109, -0.08879885,\n",
      "         -0.02609889, -0.08832899,  0.01101111, -0.10106276],\n",
      "        [-0.09825287,  0.10697124,  0.09980622,  0.01990008,\n",
      "          0.10148794, -0.04356361, -0.06443645,  0.10249496],\n",
      "        [ 0.04412716,  0.1031419 ,  0.01241856,  0.02603509,\n",
      "         -0.0139861 ,  0.09616815, -0.02123147,  0.05198352],\n",
      "        [-0.02325958, -0.07775997,  0.10101426,  0.04946362,\n",
      "          0.05401829,  0.06253821, -0.00871189, -0.04180789],\n",
      "        [ 0.01134511,  0.05033519, -0.02891214,  0.04988019,\n",
      "         -0.02881137, -0.00140125, -0.1011859 , -0.08422307],\n",
      "        [-0.10667033, -0.06664462,  0.08809652,  0.07683714,\n",
      "         -0.04143365, -0.03914723, -0.10108898,  0.07602802]],\n",
      "\n",
      "       [[-0.03542379,  0.03988696,  0.0870287 ,  0.09504012,\n",
      "         -0.08677465,  0.03398493, -0.01934917,  0.03199016],\n",
      "        [ 0.10801271, -0.00314823,  0.02637214, -0.03209275,\n",
      "         -0.05125806,  0.06124745, -0.04853074,  0.08635076],\n",
      "        [-0.01155789,  0.06307505, -0.07742109, -0.08879885,\n",
      "         -0.02609889, -0.08832899,  0.01101111, -0.10106276],\n",
      "        [-0.09825287,  0.10697124,  0.09980622,  0.01990008,\n",
      "          0.10148794, -0.04356361, -0.06443645,  0.10249496],\n",
      "        [ 0.04412716,  0.1031419 ,  0.01241856,  0.02603509,\n",
      "         -0.0139861 ,  0.09616815, -0.02123147,  0.05198352],\n",
      "        [-0.02325958, -0.07775997,  0.10101426,  0.04946362,\n",
      "          0.05401829,  0.06253821, -0.00871189, -0.04180789],\n",
      "        [ 0.01134511,  0.05033519, -0.02891214,  0.04988019,\n",
      "         -0.02881137, -0.00140125, -0.1011859 , -0.08422307],\n",
      "        [-0.10667033, -0.06664462,  0.08809652,  0.07683714,\n",
      "         -0.04143365, -0.03914723, -0.10108898,  0.07602802]],\n",
      "\n",
      "       [[-0.03542379,  0.03988696,  0.0870287 ,  0.09504012,\n",
      "         -0.08677465,  0.03398493, -0.01934917,  0.03199016],\n",
      "        [ 0.10801271, -0.00314823,  0.02637214, -0.03209275,\n",
      "         -0.05125806,  0.06124745, -0.04853074,  0.08635076],\n",
      "        [-0.01155789,  0.06307505, -0.07742109, -0.08879885,\n",
      "         -0.02609889, -0.08832899,  0.01101111, -0.10106276],\n",
      "        [-0.09825287,  0.10697124,  0.09980622,  0.01990008,\n",
      "          0.10148794, -0.04356361, -0.06443645,  0.10249496],\n",
      "        [ 0.04412716,  0.1031419 ,  0.01241856,  0.02603509,\n",
      "         -0.0139861 ,  0.09616815, -0.02123147,  0.05198352],\n",
      "        [-0.02325958, -0.07775997,  0.10101426,  0.04946362,\n",
      "          0.05401829,  0.06253821, -0.00871189, -0.04180789],\n",
      "        [ 0.01134511,  0.05033519, -0.02891214,  0.04988019,\n",
      "         -0.02881137, -0.00140125, -0.1011859 , -0.08422307],\n",
      "        [-0.10667033, -0.06664462,  0.08809652,  0.07683714,\n",
      "         -0.04143365, -0.03914723, -0.10108898,  0.07602802]],\n",
      "\n",
      "       [[-0.03542379,  0.03988696,  0.0870287 ,  0.09504012,\n",
      "         -0.08677465,  0.03398493, -0.01934917,  0.03199016],\n",
      "        [ 0.10801271, -0.00314823,  0.02637214, -0.03209275,\n",
      "         -0.05125806,  0.06124745, -0.04853074,  0.08635076],\n",
      "        [-0.01155789,  0.06307505, -0.07742109, -0.08879885,\n",
      "         -0.02609889, -0.08832899,  0.01101111, -0.10106276],\n",
      "        [-0.09825287,  0.10697124,  0.09980622,  0.01990008,\n",
      "          0.10148794, -0.04356361, -0.06443645,  0.10249496],\n",
      "        [ 0.04412716,  0.1031419 ,  0.01241856,  0.02603509,\n",
      "         -0.0139861 ,  0.09616815, -0.02123147,  0.05198352],\n",
      "        [-0.02325958, -0.07775997,  0.10101426,  0.04946362,\n",
      "          0.05401829,  0.06253821, -0.00871189, -0.04180789],\n",
      "        [ 0.01134511,  0.05033519, -0.02891214,  0.04988019,\n",
      "         -0.02881137, -0.00140125, -0.1011859 , -0.08422307],\n",
      "        [-0.10667033, -0.06664462,  0.08809652,  0.07683714,\n",
      "         -0.04143365, -0.03914723, -0.10108898,  0.07602802]],\n",
      "\n",
      "       [[-0.03542379,  0.03988696,  0.0870287 ,  0.09504012,\n",
      "         -0.08677465,  0.03398493, -0.01934917,  0.03199016],\n",
      "        [ 0.10801271, -0.00314823,  0.02637214, -0.03209275,\n",
      "         -0.05125806,  0.06124745, -0.04853074,  0.08635076],\n",
      "        [-0.01155789,  0.06307505, -0.07742109, -0.08879885,\n",
      "         -0.02609889, -0.08832899,  0.01101111, -0.10106276],\n",
      "        [-0.09825287,  0.10697124,  0.09980622,  0.01990008,\n",
      "          0.10148794, -0.04356361, -0.06443645,  0.10249496],\n",
      "        [ 0.04412716,  0.1031419 ,  0.01241856,  0.02603509,\n",
      "         -0.0139861 ,  0.09616815, -0.02123147,  0.05198352],\n",
      "        [-0.02325958, -0.07775997,  0.10101426,  0.04946362,\n",
      "          0.05401829,  0.06253821, -0.00871189, -0.04180789],\n",
      "        [ 0.01134511,  0.05033519, -0.02891214,  0.04988019,\n",
      "         -0.02881137, -0.00140125, -0.1011859 , -0.08422307],\n",
      "        [-0.10667033, -0.06664462,  0.08809652,  0.07683714,\n",
      "         -0.04143365, -0.03914723, -0.10108898,  0.07602802]],\n",
      "\n",
      "       [[-0.03542379,  0.03988696,  0.0870287 ,  0.09504012,\n",
      "         -0.08677465,  0.03398493, -0.01934917,  0.03199016],\n",
      "        [ 0.10801271, -0.00314823,  0.02637214, -0.03209275,\n",
      "         -0.05125806,  0.06124745, -0.04853074,  0.08635076],\n",
      "        [-0.01155789,  0.06307505, -0.07742109, -0.08879885,\n",
      "         -0.02609889, -0.08832899,  0.01101111, -0.10106276],\n",
      "        [-0.09825287,  0.10697124,  0.09980622,  0.01990008,\n",
      "          0.10148794, -0.04356361, -0.06443645,  0.10249496],\n",
      "        [ 0.04412716,  0.1031419 ,  0.01241856,  0.02603509,\n",
      "         -0.0139861 ,  0.09616815, -0.02123147,  0.05198352],\n",
      "        [-0.02325958, -0.07775997,  0.10101426,  0.04946362,\n",
      "          0.05401829,  0.06253821, -0.00871189, -0.04180789],\n",
      "        [ 0.01134511,  0.05033519, -0.02891214,  0.04988019,\n",
      "         -0.02881137, -0.00140125, -0.1011859 , -0.08422307],\n",
      "        [-0.10667033, -0.06664462,  0.08809652,  0.07683714,\n",
      "         -0.04143365, -0.03914723, -0.10108898,  0.07602802]],\n",
      "\n",
      "       [[-0.03542379,  0.03988696,  0.0870287 ,  0.09504012,\n",
      "         -0.08677465,  0.03398493, -0.01934917,  0.03199016],\n",
      "        [ 0.10801271, -0.00314823,  0.02637214, -0.03209275,\n",
      "         -0.05125806,  0.06124745, -0.04853074,  0.08635076],\n",
      "        [-0.01155789,  0.06307505, -0.07742109, -0.08879885,\n",
      "         -0.02609889, -0.08832899,  0.01101111, -0.10106276],\n",
      "        [-0.09825287,  0.10697124,  0.09980622,  0.01990008,\n",
      "          0.10148794, -0.04356361, -0.06443645,  0.10249496],\n",
      "        [ 0.04412716,  0.1031419 ,  0.01241856,  0.02603509,\n",
      "         -0.0139861 ,  0.09616815, -0.02123147,  0.05198352],\n",
      "        [-0.02325958, -0.07775997,  0.10101426,  0.04946362,\n",
      "          0.05401829,  0.06253821, -0.00871189, -0.04180789],\n",
      "        [ 0.01134511,  0.05033519, -0.02891214,  0.04988019,\n",
      "         -0.02881137, -0.00140125, -0.1011859 , -0.08422307],\n",
      "        [-0.10667033, -0.06664462,  0.08809652,  0.07683714,\n",
      "         -0.04143365, -0.03914723, -0.10108898,  0.07602802]]],      dtype=float32)\n",
      "  batch_dim = 0, 'bias': Array([0., 0., 0., 0., 0., 0., 0., 0.], dtype=float32)}\n"
     ]
    }
   ],
   "source": [
    "example_input = coords[: int(masked_portion * coords.shape[0])]\n",
    "\n",
    "# Initialize model parameters\n",
    "params = initializer(model, example_input, num_signals)"
   ],
   "metadata": {
    "collapsed": false,
    "ExecuteTime": {
     "end_time": "2024-03-06T08:48:29.988983Z",
     "start_time": "2024-03-06T08:48:29.396674Z"
    }
   },
   "id": "f54bb98e53b98446"
  },
  {
   "cell_type": "code",
   "execution_count": 134,
   "outputs": [
    {
     "name": "stdout",
     "output_type": "stream",
     "text": [
      "\n",
      "\u001B[3m                                 SIREN Summary                                  \u001B[0m\n",
      "┏━━━━━━━━━━━━━━━━┳━━━━━━━━━━━━┳━━━━━━━━━━━━━━━┳━━━━━━━━━━━━━━━━┳━━━━━━━━━━━━━━━┓\n",
      "┃\u001B[1m \u001B[0m\u001B[1mpath          \u001B[0m\u001B[1m \u001B[0m┃\u001B[1m \u001B[0m\u001B[1mmodule    \u001B[0m\u001B[1m \u001B[0m┃\u001B[1m \u001B[0m\u001B[1minputs       \u001B[0m\u001B[1m \u001B[0m┃\u001B[1m \u001B[0m\u001B[1moutputs       \u001B[0m\u001B[1m \u001B[0m┃\u001B[1m \u001B[0m\u001B[1mparams       \u001B[0m\u001B[1m \u001B[0m┃\n",
      "┡━━━━━━━━━━━━━━━━╇━━━━━━━━━━━━╇━━━━━━━━━━━━━━━╇━━━━━━━━━━━━━━━━╇━━━━━━━━━━━━━━━┩\n",
      "│                │ SIREN      │ \u001B[2mfloat32\u001B[0m[784,… │ \u001B[2mfloat32\u001B[0m[784,1] │               │\n",
      "├────────────────┼────────────┼───────────────┼────────────────┼───────────────┤\n",
      "│ kernel_net_0   │ SirenLayer │ \u001B[2mfloat32\u001B[0m[784,… │ \u001B[2mfloat32\u001B[0m[784,8] │               │\n",
      "├────────────────┼────────────┼───────────────┼────────────────┼───────────────┤\n",
      "│ kernel_net_0/… │ Dense      │ \u001B[2mfloat32\u001B[0m[784,… │ \u001B[2mfloat32\u001B[0m[784,8] │ bias:         │\n",
      "│                │            │               │                │ \u001B[2mfloat32\u001B[0m[8]    │\n",
      "│                │            │               │                │ kernel:       │\n",
      "│                │            │               │                │ \u001B[2mfloat32\u001B[0m[2,8]  │\n",
      "│                │            │               │                │               │\n",
      "│                │            │               │                │ \u001B[1m24 \u001B[0m\u001B[1;2m(96 B)\u001B[0m     │\n",
      "├────────────────┼────────────┼───────────────┼────────────────┼───────────────┤\n",
      "│ kernel_net_1   │ SirenLayer │ \u001B[2mfloat32\u001B[0m[784,… │ \u001B[2mfloat32\u001B[0m[784,8] │               │\n",
      "├────────────────┼────────────┼───────────────┼────────────────┼───────────────┤\n",
      "│ kernel_net_1/… │ Dense      │ \u001B[2mfloat32\u001B[0m[784,… │ \u001B[2mfloat32\u001B[0m[784,8] │ bias:         │\n",
      "│                │            │               │                │ \u001B[2mfloat32\u001B[0m[8]    │\n",
      "│                │            │               │                │ kernel:       │\n",
      "│                │            │               │                │ \u001B[2mfloat32\u001B[0m[8,8]  │\n",
      "│                │            │               │                │               │\n",
      "│                │            │               │                │ \u001B[1m72 \u001B[0m\u001B[1;2m(288 B)\u001B[0m    │\n",
      "├────────────────┼────────────┼───────────────┼────────────────┼───────────────┤\n",
      "│ output_linear  │ Dense      │ \u001B[2mfloat32\u001B[0m[784,… │ \u001B[2mfloat32\u001B[0m[784,1] │ bias:         │\n",
      "│                │            │               │                │ \u001B[2mfloat32\u001B[0m[1]    │\n",
      "│                │            │               │                │ kernel:       │\n",
      "│                │            │               │                │ \u001B[2mfloat32\u001B[0m[8,1]  │\n",
      "│                │            │               │                │               │\n",
      "│                │            │               │                │ \u001B[1m9 \u001B[0m\u001B[1;2m(36 B)\u001B[0m      │\n",
      "├────────────────┼────────────┼───────────────┼────────────────┼───────────────┤\n",
      "│\u001B[1m \u001B[0m\u001B[1m              \u001B[0m\u001B[1m \u001B[0m│\u001B[1m \u001B[0m\u001B[1m          \u001B[0m\u001B[1m \u001B[0m│\u001B[1m \u001B[0m\u001B[1m             \u001B[0m\u001B[1m \u001B[0m│\u001B[1m \u001B[0m\u001B[1m         Total\u001B[0m\u001B[1m \u001B[0m│\u001B[1m \u001B[0m\u001B[1m105 \u001B[0m\u001B[1;2m(420 B)\u001B[0m\u001B[1m  \u001B[0m\u001B[1m \u001B[0m│\n",
      "└────────────────┴────────────┴───────────────┴────────────────┴───────────────┘\n",
      "\u001B[1m                                                                                \u001B[0m\n",
      "\u001B[1m                         Total Parameters: 105 \u001B[0m\u001B[1;2m(420 B)\u001B[0m\u001B[1m                          \u001B[0m\n"
     ]
    }
   ],
   "source": [
    "print(model.tabulate(jax.random.key(0), example_input))"
   ],
   "metadata": {
    "collapsed": false,
    "ExecuteTime": {
     "end_time": "2024-03-05T21:40:51.090441Z",
     "start_time": "2024-03-05T21:40:51.067615Z"
    }
   },
   "id": "2eb7baff526ef737"
  },
  {
   "cell_type": "code",
   "execution_count": 60,
   "outputs": [],
   "source": [
    "class Curvature():\n",
    "    value: jnp.ndarray\n",
    "    c: jnp.ndarray\n",
    "    \n",
    "    def __init__(self, value=1.0):\n",
    "        self.value = jnp.array(value)\n",
    "        self.c = self.softplus(self.value, )\n",
    "        \n",
    "    def softplus(self, value):\n",
    "        return jnp.log1p(jnp.exp(value))"
   ],
   "metadata": {
    "collapsed": false,
    "ExecuteTime": {
     "end_time": "2024-03-06T08:48:35.790321Z",
     "start_time": "2024-03-06T08:48:35.772862Z"
    }
   },
   "id": "9a8a7fbb6900c3e4"
  },
  {
   "cell_type": "code",
   "execution_count": 61,
   "outputs": [],
   "source": [
    "curvature = Curvature(0.1)"
   ],
   "metadata": {
    "collapsed": false,
    "ExecuteTime": {
     "end_time": "2024-03-06T08:48:36.204148Z",
     "start_time": "2024-03-06T08:48:36.170197Z"
    }
   },
   "id": "ec9998062f3c623b"
  },
  {
   "cell_type": "code",
   "execution_count": 62,
   "outputs": [],
   "source": [
    "def expmap0(x: jnp.ndarray, curv: jnp.ndarray, dim: int = 1):\n",
    "        v_norm = jnp.linalg.norm(x, axis=dim, keepdims=True)\n",
    "        v_norm_clamped = jnp.maximum(v_norm, 1e-15)\n",
    "        v_norm_c_sqrt = v_norm_clamped * jnp.sqrt(curv)\n",
    "        return jnp.tanh(v_norm_c_sqrt) * x / v_norm_c_sqrt\n",
    "\n",
    "def project(x: jnp.ndarray, curv: jnp.ndarray, dim: int = 1, eps: float = -1.0):\n",
    "    if eps < 0:\n",
    "            if x.dtype == jnp.float32:\n",
    "                eps = 4e-3\n",
    "            else:\n",
    "                eps = 1e-5\n",
    "    maxnorm = (1 - eps) / ((curv + 1e-15) ** 0.5)\n",
    "    maxnorm = jnp.where(curv > 0, maxnorm, jnp.full((), 1e15, dtype=curv.dtype))\n",
    "    norm = jnp.linalg.norm(x, axis=dim, keepdims=True)\n",
    "    norm = jnp.clip(norm, a_min=1e-15)\n",
    "    cond = norm > maxnorm\n",
    "    projected = x / norm * maxnorm\n",
    "    return jnp.where(cond, projected, x)"
   ],
   "metadata": {
    "collapsed": false,
    "ExecuteTime": {
     "end_time": "2024-03-06T08:48:36.541204Z",
     "start_time": "2024-03-06T08:48:36.523623Z"
    }
   },
   "id": "d686b44773b914d3"
  },
  {
   "cell_type": "code",
   "execution_count": 63,
   "outputs": [],
   "source": [
    "def reflatten_images(images, shapes):\n",
    "    return images.reshape(images.shape[0], shapes[0], shapes[1], shapes[2])\n",
    "\n",
    "def flatten_images(images, shapes):\n",
    "    return images.reshape(images.shape[0], shapes[0]*shapes[1], shapes[2])"
   ],
   "metadata": {
    "collapsed": false,
    "ExecuteTime": {
     "end_time": "2024-03-06T08:48:37.273323Z",
     "start_time": "2024-03-06T08:48:37.267859Z"
    }
   },
   "id": "3dced6e11cac75dd"
  },
  {
   "cell_type": "code",
   "execution_count": 64,
   "outputs": [],
   "source": [
    "img = reflatten_images(signals, images_shape)"
   ],
   "metadata": {
    "collapsed": false,
    "ExecuteTime": {
     "end_time": "2024-03-06T08:48:37.814276Z",
     "start_time": "2024-03-06T08:48:37.802920Z"
    }
   },
   "id": "895e9b4ea26c24c8"
  },
  {
   "cell_type": "code",
   "execution_count": 65,
   "outputs": [],
   "source": [
    "projected_img = jax.numpy.array([project(expmap0(image, curvature.c), curvature.c) for image in img])"
   ],
   "metadata": {
    "collapsed": false,
    "ExecuteTime": {
     "end_time": "2024-03-06T08:48:38.500884Z",
     "start_time": "2024-03-06T08:48:38.373884Z"
    }
   },
   "id": "fb7cc9c2fc8af43"
  },
  {
   "cell_type": "code",
   "execution_count": 66,
   "outputs": [],
   "source": [
    "input = flatten_images(projected_img, images_shape)"
   ],
   "metadata": {
    "collapsed": false,
    "ExecuteTime": {
     "end_time": "2024-03-06T08:48:39.216340Z",
     "start_time": "2024-03-06T08:48:39.210670Z"
    }
   },
   "id": "fe6cf064679cc38e"
  },
  {
   "cell_type": "code",
   "execution_count": 67,
   "outputs": [
    {
     "data": {
      "text/plain": "(10, 784, 1)"
     },
     "execution_count": 67,
     "metadata": {},
     "output_type": "execute_result"
    }
   ],
   "source": [
    "input.shape"
   ],
   "metadata": {
    "collapsed": false,
    "ExecuteTime": {
     "end_time": "2024-03-06T08:48:39.711014Z",
     "start_time": "2024-03-06T08:48:39.705232Z"
    }
   },
   "id": "ed4e79ff74833516"
  },
  {
   "cell_type": "code",
   "execution_count": 68,
   "outputs": [],
   "source": [
    "# Create the train state\n",
    "state = TrainState.create(\n",
    "            apply_fn=model.apply, params=params, tx=optimizer, rng=train_rng\n",
    "        )"
   ],
   "metadata": {
    "collapsed": false,
    "ExecuteTime": {
     "end_time": "2024-03-06T08:48:43.515560Z",
     "start_time": "2024-03-06T08:48:43.465323Z"
    }
   },
   "id": "c8bcee51b129f66"
  },
  {
   "cell_type": "code",
   "execution_count": 69,
   "outputs": [],
   "source": [
    "param_key = partial(\n",
    "            param_key_dict[nef_cfg.get(\"name\", None)], nef_cfg=nef_cfg.get(\"params\", None)\n",
    "        )"
   ],
   "metadata": {
    "collapsed": false,
    "ExecuteTime": {
     "end_time": "2024-03-06T08:48:43.815208Z",
     "start_time": "2024-03-06T08:48:43.796286Z"
    }
   },
   "id": "c75b67ad12ad3006"
  },
  {
   "cell_type": "code",
   "execution_count": 70,
   "outputs": [],
   "source": [
    "def create_loss():\n",
    "    def loss_fn(params, coords, images):\n",
    "            y = model.apply({\"params\": params}, coords)\n",
    "            loss = (images - y) ** 2\n",
    "            recon_loss = loss.mean()\n",
    "            return recon_loss\n",
    "\n",
    "    return jax.vmap(loss_fn, in_axes=(0, None, 0), out_axes=0)\n",
    "\n",
    "loss_fn = create_loss()\n"
   ],
   "metadata": {
    "collapsed": false,
    "ExecuteTime": {
     "end_time": "2024-03-06T08:48:44.324718Z",
     "start_time": "2024-03-06T08:48:44.319393Z"
    }
   },
   "id": "fb2a83d251c7d362"
  },
  {
   "cell_type": "code",
   "execution_count": 71,
   "outputs": [],
   "source": [
    "def process_batch(\n",
    "        state: TrainState, coords: jnp.ndarray, images: jnp.ndarray\n",
    "    ) -> Tuple[jnp.ndarray, jnp.ndarray, jnp.ndarray]:\n",
    "\n",
    "        rng, step_rng = jax.random.split(state.rng)\n",
    "        mask = jax.random.permutation(step_rng, coords.shape[0])\n",
    "        mask = mask[: int(masked_portion * coords.shape[0])]\n",
    "        # apply_mask\n",
    "        coords = coords[mask]\n",
    "        images = images[:, mask]\n",
    "\n",
    "        return coords, images, rng"
   ],
   "metadata": {
    "collapsed": false,
    "ExecuteTime": {
     "end_time": "2024-03-06T08:48:46.308179Z",
     "start_time": "2024-03-06T08:48:46.301033Z"
    }
   },
   "id": "36c9d6ecbb83801b"
  },
  {
   "cell_type": "code",
   "execution_count": 72,
   "outputs": [],
   "source": [
    "def create_train_step():\n",
    "    def train_step(stat, coord, sign):\n",
    "        coords, signals, rng = process_batch(stat, coord, sign)\n",
    "        # pass the coordinates and the signals all at once\n",
    "        my_loss = lambda params: loss_fn(params, coords, signals).sum()\n",
    "        # compute gradients wrt state.params\n",
    "        loss, grads = jax.value_and_grad(my_loss, has_aux=False)(stat.params)\n",
    "        stat = stat.apply_gradients(grads=grads, rng=rng)\n",
    "        return stat, loss\n",
    "\n",
    "    return jax.jit(train_step)\n",
    "\n",
    "train_step = create_train_step()"
   ],
   "metadata": {
    "collapsed": false,
    "ExecuteTime": {
     "end_time": "2024-03-06T08:48:46.676341Z",
     "start_time": "2024-03-06T08:48:46.657597Z"
    }
   },
   "id": "4f905601f2feca43"
  },
  {
   "cell_type": "markdown",
   "source": [
    "**Compile TrainStep**"
   ],
   "metadata": {
    "collapsed": false
   },
   "id": "e735a78d730e489"
  },
  {
   "cell_type": "code",
   "execution_count": 73,
   "outputs": [
    {
     "name": "stdout",
     "output_type": "stream",
     "text": [
      "(784, 2)\n",
      "{'bias': Traced<ShapedArray(float32[8])>with<BatchTrace(level=4/0)> with\n",
      "  val = Traced<ShapedArray(float32[10,8])>with<JVPTrace(level=3/0)> with\n",
      "    primal = Traced<ShapedArray(float32[10,8])>with<DynamicJaxprTrace(level=1/0)>\n",
      "    tangent = Traced<ShapedArray(float32[10,8])>with<JaxprTrace(level=2/0)> with\n",
      "      pval = (ShapedArray(float32[10,8]), None)\n",
      "      recipe = LambdaBinding()\n",
      "  batch_dim = 0, 'kernel': Traced<ShapedArray(float32[2,8])>with<BatchTrace(level=4/0)> with\n",
      "  val = Traced<ShapedArray(float32[10,2,8])>with<JVPTrace(level=3/0)> with\n",
      "    primal = Traced<ShapedArray(float32[10,2,8])>with<DynamicJaxprTrace(level=1/0)>\n",
      "    tangent = Traced<ShapedArray(float32[10,2,8])>with<JaxprTrace(level=2/0)> with\n",
      "      pval = (ShapedArray(float32[10,2,8]), None)\n",
      "      recipe = LambdaBinding()\n",
      "  batch_dim = 0}\n",
      "(784, 8)\n",
      "{'bias': Traced<ShapedArray(float32[8])>with<BatchTrace(level=4/0)> with\n",
      "  val = Traced<ShapedArray(float32[10,8])>with<JVPTrace(level=3/0)> with\n",
      "    primal = Traced<ShapedArray(float32[10,8])>with<DynamicJaxprTrace(level=1/0)>\n",
      "    tangent = Traced<ShapedArray(float32[10,8])>with<JaxprTrace(level=2/0)> with\n",
      "      pval = (ShapedArray(float32[10,8]), None)\n",
      "      recipe = LambdaBinding()\n",
      "  batch_dim = 0, 'kernel': Traced<ShapedArray(float32[8,8])>with<BatchTrace(level=4/0)> with\n",
      "  val = Traced<ShapedArray(float32[10,8,8])>with<JVPTrace(level=3/0)> with\n",
      "    primal = Traced<ShapedArray(float32[10,8,8])>with<DynamicJaxprTrace(level=1/0)>\n",
      "    tangent = Traced<ShapedArray(float32[10,8,8])>with<JaxprTrace(level=2/0)> with\n",
      "      pval = (ShapedArray(float32[10,8,8]), None)\n",
      "      recipe = LambdaBinding()\n",
      "  batch_dim = 0}\n"
     ]
    }
   ],
   "source": [
    "#Train model\n",
    "state, losses = train_step(state, coords, signals)"
   ],
   "metadata": {
    "collapsed": false,
    "ExecuteTime": {
     "end_time": "2024-03-06T08:48:49.713881Z",
     "start_time": "2024-03-06T08:48:49.438418Z"
    }
   },
   "id": "a0a0d9668ed8bfeb"
  },
  {
   "cell_type": "markdown",
   "source": [
    "## Training Loop"
   ],
   "metadata": {
    "collapsed": false
   },
   "id": "51436b3bee234f52"
  },
  {
   "cell_type": "code",
   "execution_count": 94,
   "outputs": [],
   "source": [
    "def get_lr():\n",
    "    schedule = lr_schedule\n",
    "    if schedule is None:\n",
    "        logging.warning(\"No learning rate schedule found.\")\n",
    "        return\n",
    "    opt_state = state.opt_state\n",
    "    opt_state = [s for s in opt_state if isinstance(s, optax.ScaleByScheduleState)]\n",
    "\n",
    "    if len(opt_state) == 0:\n",
    "        logging.warning(\"No state of a learning rate schedule found.\")\n",
    "        return\n",
    "    if len(opt_state) > 1:\n",
    "        logging.warning(\n",
    "            \"Found multiple states of a learning rate schedule. Using the last one.\"\n",
    "            )\n",
    "    step = opt_state[-1].count\n",
    "    lr = schedule(step)\n",
    "    return lr"
   ],
   "metadata": {
    "collapsed": false,
    "ExecuteTime": {
     "end_time": "2024-03-05T20:49:02.274894Z",
     "start_time": "2024-03-05T20:49:02.263599Z"
    }
   },
   "id": "86edcc1cbbc82dc2"
  },
  {
   "cell_type": "code",
   "execution_count": 95,
   "outputs": [],
   "source": [
    "def apply_model(model, params, coords):\n",
    "    return jax.vmap(lambda params: model.apply({\"params\": params}, coords))(params)"
   ],
   "metadata": {
    "collapsed": false,
    "ExecuteTime": {
     "end_time": "2024-03-05T20:49:02.627221Z",
     "start_time": "2024-03-05T20:49:02.621786Z"
    }
   },
   "id": "1a0494a32a2e6fc1"
  },
  {
   "cell_type": "code",
   "execution_count": 96,
   "outputs": [],
   "source": [
    "def get_psnr(model, params, coords, signals):\n",
    "    recon = apply_model(model, params, coords)\n",
    "    metric = psnr(recon, signals, images_mean, images_std)\n",
    "    return jnp.mean(metric), jnp.mean(jnp.square(metric))"
   ],
   "metadata": {
    "collapsed": false,
    "ExecuteTime": {
     "end_time": "2024-03-05T20:49:03.302051Z",
     "start_time": "2024-03-05T20:49:03.297774Z"
    }
   },
   "id": "f26a490f8caba840"
  },
  {
   "cell_type": "code",
   "execution_count": 97,
   "outputs": [],
   "source": [
    "for step_num in range(1, num_steps + 1):\n",
    "    # Train model for one epoch, and log avg loss\n",
    "    state, losses = train_step(state, coords, signals)\n",
    "\n",
    "    if log_cfg is not None:\n",
    "        if step_num % log_cfg.loss == 0 or (step_num == num_steps):\n",
    "            learning_rate = get_lr()\n",
    "            logging.info(f\"Step: {step_num}. Loss: {losses.mean()}. LR {learning_rate}\")\n",
    "        if step_num % log_cfg.images == 0 or (step_num == num_steps):\n",
    "            recons = apply_model(model, state.params, coords)\n",
    "            logging.info(\"Wandb not available. Skipping logging images.\")\n",
    "        if step_num % log_cfg.metrics == 0 or (step_num == num_steps):\n",
    "            psnr_mean, psnr_squared_mean = get_psnr(model, state.params, coords, signals)\n",
    "            logging.info(f\"Step: {step_num}. PSNR: {psnr_mean}\")\n"
   ],
   "metadata": {
    "collapsed": false,
    "ExecuteTime": {
     "end_time": "2024-03-05T20:49:05.618358Z",
     "start_time": "2024-03-05T20:49:03.874353Z"
    }
   },
   "id": "bc2e4de9e7222337"
  },
  {
   "cell_type": "code",
   "execution_count": 68,
   "outputs": [],
   "source": [
    "attributes = load_attributes(source_dataset, start_idx, end_idx)"
   ],
   "metadata": {
    "collapsed": false,
    "ExecuteTime": {
     "end_time": "2024-03-05T20:09:07.981197Z",
     "start_time": "2024-03-05T20:09:07.963811Z"
    }
   },
   "id": "7deec7cec711ef63"
  },
  {
   "cell_type": "code",
   "execution_count": 333,
   "outputs": [],
   "source": [
    "def save(path, **kwargs):\n",
    "    param_config, comb_params = flatten_params(\n",
    "            state.params, num_batch_dims=1, param_key=param_key\n",
    "        )\n",
    "    comb_params = jax.device_get(comb_params)\n",
    "    param_config = json.dumps(param_config)\n",
    "\n",
    "    with h5py.File(path, \"w\") as f:\n",
    "        f.create_dataset(\"params\", data=comb_params)\n",
    "        dt = h5py.special_dtype(vlen=str)\n",
    "        data = f.create_dataset(\"param_config\", (1,), dtype=dt)\n",
    "        data[0] = param_config\n",
    "        for key, value in kwargs.items():\n",
    "            if isinstance(value, jnp.ndarray):\n",
    "                value = jax.device_get(value)\n",
    "            f.create_dataset(key, data=value)"
   ],
   "metadata": {
    "collapsed": false,
    "ExecuteTime": {
     "end_time": "2024-02-19T20:55:31.785636Z",
     "start_time": "2024-02-19T20:55:31.769060Z"
    }
   },
   "id": "2060d3b362c56c45"
  },
  {
   "cell_type": "code",
   "execution_count": 334,
   "outputs": [],
   "source": [
    "save(storage_folder / Path(path_from_name_idxs(\"nefs\", nef_start_idx, nef_end_idx)), **attributes)"
   ],
   "metadata": {
    "collapsed": false,
    "ExecuteTime": {
     "end_time": "2024-02-19T20:55:50.725972Z",
     "start_time": "2024-02-19T20:55:50.665107Z"
    }
   },
   "id": "e9abb7bb19ca1121"
  }
 ],
 "metadata": {
  "kernelspec": {
   "display_name": "Python 3",
   "language": "python",
   "name": "python3"
  },
  "language_info": {
   "codemirror_mode": {
    "name": "ipython",
    "version": 2
   },
   "file_extension": ".py",
   "mimetype": "text/x-python",
   "name": "python",
   "nbconvert_exporter": "python",
   "pygments_lexer": "ipython2",
   "version": "2.7.6"
  }
 },
 "nbformat": 4,
 "nbformat_minor": 5
}
